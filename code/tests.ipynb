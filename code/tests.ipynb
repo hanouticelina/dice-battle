{
 "cells": [
  {
   "cell_type": "code",
   "execution_count": 161,
   "metadata": {
    "ExecuteTime": {
     "end_time": "2019-11-16T20:05:49.468887Z",
     "start_time": "2019-11-16T20:05:49.464619Z"
    }
   },
   "outputs": [],
   "source": [
    "import numpy as np\n",
    "from pylab import plot, show"
   ]
  },
  {
   "cell_type": "code",
   "execution_count": 4,
   "metadata": {
    "ExecuteTime": {
     "end_time": "2019-11-16T14:43:45.246385Z",
     "start_time": "2019-11-16T14:43:45.231167Z"
    }
   },
   "outputs": [],
   "source": [
    "def max_exp(D):\n",
    "    EP = np.array([(4*d-1)*((5/6)**d) + 1 for d in range(1,D+1)])\n",
    "    return np.argmax(EP)"
   ]
  },
  {
   "cell_type": "code",
   "execution_count": 5,
   "metadata": {
    "ExecuteTime": {
     "end_time": "2019-11-16T14:43:45.753305Z",
     "start_time": "2019-11-16T14:43:45.723998Z"
    }
   },
   "outputs": [
    {
     "data": {
      "text/plain": [
       "5"
      ]
     },
     "execution_count": 5,
     "metadata": {},
     "output_type": "execute_result"
    }
   ],
   "source": [
    "max_exp(20)"
   ]
  },
  {
   "cell_type": "code",
   "execution_count": 19,
   "metadata": {
    "ExecuteTime": {
     "end_time": "2019-11-16T15:44:47.946573Z",
     "start_time": "2019-11-16T15:44:47.933510Z"
    }
   },
   "outputs": [
    {
     "name": "stdout",
     "output_type": "stream",
     "text": [
      "2\n",
      "3\n",
      "4\n",
      "5\n",
      "6\n"
     ]
    }
   ],
   "source": [
    "for k in range(2,7):\n",
    "    print(k)"
   ]
  },
  {
   "cell_type": "code",
   "execution_count": 51,
   "metadata": {
    "ExecuteTime": {
     "end_time": "2019-11-16T16:00:53.782059Z",
     "start_time": "2019-11-16T16:00:53.767685Z"
    }
   },
   "outputs": [
    {
     "data": {
      "text/plain": [
       "(41,)"
      ]
     },
     "execution_count": 51,
     "metadata": {},
     "output_type": "execute_result"
    }
   ],
   "source": [
    "np.arange(2*10,6*10+1).shape"
   ]
  },
  {
   "cell_type": "code",
   "execution_count": 18,
   "metadata": {
    "ExecuteTime": {
     "end_time": "2019-10-26T15:46:23.427320Z",
     "start_time": "2019-10-26T15:46:23.171875Z"
    }
   },
   "outputs": [
    {
     "data": {
      "text/plain": [
       "[<matplotlib.lines.Line2D at 0x7f857fc62a58>]"
      ]
     },
     "execution_count": 18,
     "metadata": {},
     "output_type": "execute_result"
    },
    {
     "data": {
      "image/png": "[encoded data removed]",
      "text/plain": [
       "<Figure size 432x288 with 1 Axes>"
      ]
     },
     "metadata": {
      "needs_background": "light"
     },
     "output_type": "display_data"
    }
   ],
   "source": [
    "x = np.arange(20)+1\n",
    "y = max_exp(20)\n",
    "plot(x,y,'o')"
   ]
  },
  {
   "cell_type": "code",
   "execution_count": 20,
   "metadata": {
    "ExecuteTime": {
     "end_time": "2019-10-26T15:46:57.557241Z",
     "start_time": "2019-10-26T15:46:57.344995Z"
    }
   },
   "outputs": [
    {
     "data": {
      "text/plain": [
       "[<matplotlib.lines.Line2D at 0x7f857fb66518>]"
      ]
     },
     "execution_count": 20,
     "metadata": {},
     "output_type": "execute_result"
    },
    {
     "data": {
      "image/png": "[encoded data removed]",
      "text/plain": [
       "<Figure size 432x288 with 1 Axes>"
      ]
     },
     "metadata": {
      "needs_background": "light"
     },
     "output_type": "display_data"
    }
   ],
   "source": [
    "x = np.arange(50)+1\n",
    "y = max_exp(50)\n",
    "plot(x,y,'o')"
   ]
  },
  {
   "cell_type": "code",
   "execution_count": 21,
   "metadata": {
    "ExecuteTime": {
     "end_time": "2019-10-26T15:47:04.341935Z",
     "start_time": "2019-10-26T15:47:04.108294Z"
    }
   },
   "outputs": [
    {
     "data": {
      "text/plain": [
       "[<matplotlib.lines.Line2D at 0x7f857fac86d8>]"
      ]
     },
     "execution_count": 21,
     "metadata": {},
     "output_type": "execute_result"
    },
    {
     "data": {
      "image/png": "[encoded data removed]",
      "text/plain": [
       "<Figure size 432x288 with 1 Axes>"
      ]
     },
     "metadata": {
      "needs_background": "light"
     },
     "output_type": "display_data"
    }
   ],
   "source": [
    "x = np.arange(100)+1\n",
    "y = max_exp(100)\n",
    "plot(x,y,'o')"
   ]
  },
  {
   "cell_type": "code",
   "execution_count": 22,
   "metadata": {
    "ExecuteTime": {
     "end_time": "2019-10-26T15:47:14.694586Z",
     "start_time": "2019-10-26T15:47:14.453309Z"
    }
   },
   "outputs": [
    {
     "data": {
      "text/plain": [
       "[<matplotlib.lines.Line2D at 0x7f857fab4400>]"
      ]
     },
     "execution_count": 22,
     "metadata": {},
     "output_type": "execute_result"
    },
    {
     "data": {
      "image/png": "[encoded data removed]",
      "text/plain": [
       "<Figure size 432x288 with 1 Axes>"
      ]
     },
     "metadata": {
      "needs_background": "light"
     },
     "output_type": "display_data"
    }
   ],
   "source": [
    "x = np.arange(1000)+1\n",
    "y = max_exp(1000)\n",
    "plot(x,y,'o')"
   ]
  },
  {
   "cell_type": "code",
   "execution_count": 89,
   "metadata": {
    "ExecuteTime": {
     "end_time": "2019-11-16T16:21:57.484768Z",
     "start_time": "2019-11-16T16:21:57.465040Z"
    }
   },
   "outputs": [],
   "source": [
    "import random\n",
    "import numpy as np\n",
    "N = 100\n",
    "def Q(d,k):\n",
    "    if d == 1:\n",
    "        return 1/5\n",
    "    if k < 2*d or k > 6*d:\n",
    "        return 0\n",
    "    else:\n",
    "        return 1/5*sum([Q(d-1,k-j) for j in range(2,7)])\n",
    "def probabilities(D):\n",
    "    K = np.arange(2,6*D+1)\n",
    "    values_D = np.arange(1,D+1)\n",
    "    P = np.zeros([D,6*D])\n",
    "    P[:,0] = list(map(lambda d : 1 - (5/6)**d, values_D))\n",
    "    for d in range(P.shape[0]):\n",
    "        for k in range(1,P.shape[1]):\n",
    "            if k+1 > 6*(d+1) or (k+1 >= 2 and k+1 <= 2*(d+1)-1):\n",
    "                P[d,k] = 0\n",
    "            else:\n",
    "                P[d,k] = Q(d+1,k+1)*(5/6)**(d+1)\n",
    "    return P\n"
   ]
  },
  {
   "cell_type": "code",
   "execution_count": 90,
   "metadata": {
    "ExecuteTime": {
     "end_time": "2019-11-16T16:21:57.987211Z",
     "start_time": "2019-11-16T16:21:57.967800Z"
    }
   },
   "outputs": [],
   "source": [
    "P = probabilities(5)"
   ]
  },
  {
   "cell_type": "code",
   "execution_count": 91,
   "metadata": {
    "ExecuteTime": {
     "end_time": "2019-11-16T16:21:58.413321Z",
     "start_time": "2019-11-16T16:21:58.397721Z"
    }
   },
   "outputs": [
    {
     "data": {
      "text/plain": [
       "array([[0.16666667, 0.16666667, 0.16666667, 0.16666667, 0.16666667,\n",
       "        0.16666667, 0.        , 0.        , 0.        , 0.        ,\n",
       "        0.        , 0.        , 0.        , 0.        , 0.        ,\n",
       "        0.        , 0.        , 0.        , 0.        , 0.        ,\n",
       "        0.        , 0.        , 0.        , 0.        , 0.        ,\n",
       "        0.        , 0.        , 0.        , 0.        , 0.        ],\n",
       "       [0.30555556, 0.        , 0.        , 0.13888889, 0.13888889,\n",
       "        0.13888889, 0.13888889, 0.13888889, 0.13888889, 0.13888889,\n",
       "        0.13888889, 0.13888889, 0.        , 0.        , 0.        ,\n",
       "        0.        , 0.        , 0.        , 0.        , 0.        ,\n",
       "        0.        , 0.        , 0.        , 0.        , 0.        ,\n",
       "        0.        , 0.        , 0.        , 0.        , 0.        ],\n",
       "       [0.4212963 , 0.        , 0.        , 0.        , 0.        ,\n",
       "        0.02314815, 0.0462963 , 0.06944444, 0.09259259, 0.11574074,\n",
       "        0.11574074, 0.11574074, 0.11574074, 0.11574074, 0.09259259,\n",
       "        0.06944444, 0.0462963 , 0.02314815, 0.        , 0.        ,\n",
       "        0.        , 0.        , 0.        , 0.        , 0.        ,\n",
       "        0.        , 0.        , 0.        , 0.        , 0.        ],\n",
       "       [0.51774691, 0.        , 0.        , 0.        , 0.        ,\n",
       "        0.        , 0.        , 0.00385802, 0.01157407, 0.02314815,\n",
       "        0.03858025, 0.05787037, 0.07330247, 0.08487654, 0.09259259,\n",
       "        0.09645062, 0.09259259, 0.08487654, 0.07330247, 0.05787037,\n",
       "        0.03858025, 0.02314815, 0.01157407, 0.00385802, 0.        ,\n",
       "        0.        , 0.        , 0.        , 0.        , 0.        ],\n",
       "       [0.59812243, 0.        , 0.        , 0.        , 0.        ,\n",
       "        0.        , 0.        , 0.        , 0.        , 0.000643  ,\n",
       "        0.00257202, 0.00643004, 0.01286008, 0.02250514, 0.03407922,\n",
       "        0.0462963 , 0.05787037, 0.06751543, 0.07330247, 0.07523148,\n",
       "        0.07330247, 0.06751543, 0.05787037, 0.0462963 , 0.03407922,\n",
       "        0.02250514, 0.01286008, 0.00643004, 0.00257202, 0.000643  ]])"
      ]
     },
     "execution_count": 91,
     "metadata": {},
     "output_type": "execute_result"
    }
   ],
   "source": [
    "P"
   ]
  },
  {
   "cell_type": "code",
   "execution_count": 33,
   "metadata": {
    "ExecuteTime": {
     "end_time": "2019-11-16T15:47:44.975162Z",
     "start_time": "2019-11-16T15:47:44.957470Z"
    }
   },
   "outputs": [
    {
     "data": {
      "text/plain": [
       "array([ 3, 10, 34,  3])"
      ]
     },
     "execution_count": 33,
     "metadata": {},
     "output_type": "execute_result"
    }
   ],
   "source": [
    "d[:,0]"
   ]
  },
  {
   "cell_type": "code",
   "execution_count": 32,
   "metadata": {
    "ExecuteTime": {
     "end_time": "2019-11-16T15:47:37.183662Z",
     "start_time": "2019-11-16T15:47:37.170241Z"
    }
   },
   "outputs": [
    {
     "data": {
      "text/plain": [
       "array([[ 3,  5,  2],\n",
       "       [10, 23, 12],\n",
       "       [34, 23, 18],\n",
       "       [ 3,  1,  2]])"
      ]
     },
     "execution_count": 32,
     "metadata": {},
     "output_type": "execute_result"
    }
   ],
   "source": [
    "d"
   ]
  },
  {
   "cell_type": "code",
   "execution_count": 34,
   "metadata": {
    "ExecuteTime": {
     "end_time": "2019-11-16T15:49:57.155811Z",
     "start_time": "2019-11-16T15:49:57.144005Z"
    }
   },
   "outputs": [],
   "source": [
    "x = lambda d : 1 - (5/6)**d"
   ]
  },
  {
   "cell_type": "code",
   "execution_count": 41,
   "metadata": {
    "ExecuteTime": {
     "end_time": "2019-11-16T15:56:32.464580Z",
     "start_time": "2019-11-16T15:56:32.454418Z"
    }
   },
   "outputs": [],
   "source": [
    "from functools import reduce\n",
    "D = [1,2,3,4,5,6,7,8,9,10]\n",
    "squared = list(map(lambda d : 1 - (5/6)**d, D))"
   ]
  },
  {
   "cell_type": "code",
   "execution_count": null,
   "metadata": {},
   "outputs": [],
   "source": []
  },
  {
   "cell_type": "code",
   "execution_count": 45,
   "metadata": {
    "ExecuteTime": {
     "end_time": "2019-11-16T15:57:04.818108Z",
     "start_time": "2019-11-16T15:57:04.807311Z"
    }
   },
   "outputs": [],
   "source": [
    "P[:,0] = squared"
   ]
  },
  {
   "cell_type": "code",
   "execution_count": 47,
   "metadata": {
    "ExecuteTime": {
     "end_time": "2019-11-16T15:57:20.453828Z",
     "start_time": "2019-11-16T15:57:20.428815Z"
    }
   },
   "outputs": [
    {
     "name": "stdout",
     "output_type": "stream",
     "text": [
      "[[0.16666667 0.         0.         0.         0.         0.\n",
      "  0.         0.         0.         0.         0.         0.\n",
      "  0.         0.         0.         0.         0.         0.\n",
      "  0.         0.         0.         0.         0.         0.\n",
      "  0.         0.         0.         0.         0.         0.\n",
      "  0.         0.         0.         0.         0.         0.\n",
      "  0.         0.         0.         0.         0.         0.        ]\n",
      " [0.30555556 0.         0.         0.         0.         0.\n",
      "  0.         0.         0.         0.         0.         0.\n",
      "  0.         0.         0.         0.         0.         0.\n",
      "  0.         0.         0.         0.         0.         0.\n",
      "  0.         0.         0.         0.         0.         0.\n",
      "  0.         0.         0.         0.         0.         0.\n",
      "  0.         0.         0.         0.         0.         0.        ]\n",
      " [0.4212963  0.         0.         0.         0.         0.\n",
      "  0.         0.         0.         0.         0.         0.\n",
      "  0.         0.         0.         0.         0.         0.\n",
      "  0.         0.         0.         0.         0.         0.\n",
      "  0.         0.         0.         0.         0.         0.\n",
      "  0.         0.         0.         0.         0.         0.\n",
      "  0.         0.         0.         0.         0.         0.        ]\n",
      " [0.51774691 0.         0.         0.         0.         0.\n",
      "  0.         0.         0.         0.         0.         0.\n",
      "  0.         0.         0.         0.         0.         0.\n",
      "  0.         0.         0.         0.         0.         0.\n",
      "  0.         0.         0.         0.         0.         0.\n",
      "  0.         0.         0.         0.         0.         0.\n",
      "  0.         0.         0.         0.         0.         0.        ]\n",
      " [0.59812243 0.         0.         0.         0.         0.\n",
      "  0.         0.         0.         0.         0.         0.\n",
      "  0.         0.         0.         0.         0.         0.\n",
      "  0.         0.         0.         0.         0.         0.\n",
      "  0.         0.         0.         0.         0.         0.\n",
      "  0.         0.         0.         0.         0.         0.\n",
      "  0.         0.         0.         0.         0.         0.        ]\n",
      " [0.66510202 0.         0.         0.         0.         0.\n",
      "  0.         0.         0.         0.         0.         0.\n",
      "  0.         0.         0.         0.         0.         0.\n",
      "  0.         0.         0.         0.         0.         0.\n",
      "  0.         0.         0.         0.         0.         0.\n",
      "  0.         0.         0.         0.         0.         0.\n",
      "  0.         0.         0.         0.         0.         0.        ]\n",
      " [0.72091835 0.         0.         0.         0.         0.\n",
      "  0.         0.         0.         0.         0.         0.\n",
      "  0.         0.         0.         0.         0.         0.\n",
      "  0.         0.         0.         0.         0.         0.\n",
      "  0.         0.         0.         0.         0.         0.\n",
      "  0.         0.         0.         0.         0.         0.\n",
      "  0.         0.         0.         0.         0.         0.        ]\n",
      " [0.76743196 0.         0.         0.         0.         0.\n",
      "  0.         0.         0.         0.         0.         0.\n",
      "  0.         0.         0.         0.         0.         0.\n",
      "  0.         0.         0.         0.         0.         0.\n",
      "  0.         0.         0.         0.         0.         0.\n",
      "  0.         0.         0.         0.         0.         0.\n",
      "  0.         0.         0.         0.         0.         0.        ]\n",
      " [0.8061933  0.         0.         0.         0.         0.\n",
      "  0.         0.         0.         0.         0.         0.\n",
      "  0.         0.         0.         0.         0.         0.\n",
      "  0.         0.         0.         0.         0.         0.\n",
      "  0.         0.         0.         0.         0.         0.\n",
      "  0.         0.         0.         0.         0.         0.\n",
      "  0.         0.         0.         0.         0.         0.        ]\n",
      " [0.83849442 0.         0.         0.         0.         0.\n",
      "  0.         0.         0.         0.         0.         0.\n",
      "  0.         0.         0.         0.         0.         0.\n",
      "  0.         0.         0.         0.         0.         0.\n",
      "  0.         0.         0.         0.         0.         0.\n",
      "  0.         0.         0.         0.         0.         0.\n",
      "  0.         0.         0.         0.         0.         0.        ]]\n"
     ]
    }
   ],
   "source": [
    "print(P)"
   ]
  },
  {
   "cell_type": "code",
   "execution_count": 49,
   "metadata": {
    "ExecuteTime": {
     "end_time": "2019-11-16T15:58:18.860625Z",
     "start_time": "2019-11-16T15:58:18.844352Z"
    }
   },
   "outputs": [
    {
     "data": {
      "text/plain": [
       "array([ 1,  2,  3,  4,  5,  6,  7,  8,  9, 10])"
      ]
     },
     "execution_count": 49,
     "metadata": {},
     "output_type": "execute_result"
    }
   ],
   "source": [
    "np.arange(1,11)"
   ]
  },
  {
   "cell_type": "code",
   "execution_count": 151,
   "metadata": {
    "ExecuteTime": {
     "end_time": "2019-11-16T20:01:25.187306Z",
     "start_time": "2019-11-16T20:01:25.175897Z"
    }
   },
   "outputs": [],
   "source": [
    "from random import randrange\n",
    "\n",
    "\n",
    "def get_dice_rolls(number_of_rolls):\n",
    "    \"\"\"Returns list with number_of_rolls from a 6-sided dice.\"\"\"\n",
    "\n",
    "    return [randrange(1, 6+1) for _ in range(number_of_rolls)]\n",
    "\n",
    "\n",
    "def get_single_dice_face(dice_roll, zero_based=False, eye='o '):\n",
    "    \"\"\"Return the full face of the roll for a dice-size sided dice.\"\"\"\n",
    "\n",
    "    # Shorten roll variable, and account for zero_basing rolls\n",
    "    r = dice_roll if zero_based else dice_roll - 1\n",
    "    dice_str = '+-----+\\n| {0} {1} |\\n| {2}'.format(eye[r<1], eye[r<3], eye[r<5])\n",
    "    # Return mirrored dice string with changing middle to get a full face\n",
    "    return dice_str + eye[r&1] + dice_str[::-1]\n",
    "\n",
    "\n",
    "def print_dice_rolls(dice_rolls, zero_based=False,  max_width=72, eye='o '):\n",
    "    \"\"\"Pretty print all dice_rolls using 6-sided dice(s).\"\"\"\n",
    "\n",
    "    # Verify parameters\n",
    "    \n",
    "    if any(roll > 6 for roll in dice_rolls):\n",
    "        raise ValueError('Roll is higher than dice size')\n",
    "\n",
    "    if len(eye) != 2:\n",
    "        raise ValueError('Excpected two choice for eye parameter')\n",
    "\n",
    "    # Set up some default values\n",
    "    dice_width = 5\n",
    "    dice_lines = 5\n",
    "\n",
    "    # Will try to collate output of multiple dice rolls into lines\n",
    "    # of up to max_width length\n",
    "    output_buffer = [''] * dice_lines\n",
    "\n",
    "    # Output the dice rolls using output_buffer\n",
    "    for roll in dice_rolls:\n",
    "\n",
    "        # Build a proper dice_str according to 6 and roll\n",
    "        current_dice = get_single_dice_face(roll, zero_based, eye)\n",
    "\n",
    "        # Check width of output_buffer against max_width,\n",
    "        # and if next line go over, then print and reset buffer\n",
    "        if len(output_buffer[0]) + dice_width >= 72:\n",
    "            for idx, line in enumerate(output_buffer):\n",
    "                print(line)\n",
    "                output_buffer[idx] = ''\n",
    "\n",
    "        # Append dice to output_buffer\n",
    "        for idx, line in enumerate(current_dice.split('\\n')):\n",
    "            output_buffer[idx] += line + '  '\n",
    "\n",
    "\n",
    "    # Print remaining dices in output_buffer\n",
    "    if len(output_buffer[0]) > 0:\n",
    "        for line in output_buffer:\n",
    "            print(line)\n"
   ]
  },
  {
   "cell_type": "code",
   "execution_count": 158,
   "metadata": {
    "ExecuteTime": {
     "end_time": "2019-11-16T20:04:55.163473Z",
     "start_time": "2019-11-16T20:04:55.115217Z"
    }
   },
   "outputs": [],
   "source": [
    "import random\n",
    "import numpy as np\n",
    "import argparse\n",
    "import print_dice as dc\n",
    "\n",
    "\n",
    "\n",
    "def Q(d,k):\n",
    "    if d == 1:\n",
    "        return 1/5\n",
    "    if k < 2*d or k > 6*d:\n",
    "        return 0\n",
    "    else:\n",
    "        return 1/5*sum([Q(d-1,k-j) for j in range(2,7)])\n",
    "\n",
    "def probabilities(D):\n",
    "    K = np.arange(2,6*D+1)\n",
    "    values_D = np.arange(1,D+1)\n",
    "    P = np.zeros([D,6*D])\n",
    "    P[:,0] = list(map(lambda d : 1 - (5/6)**d, values_D))\n",
    "    for d in range(P.shape[0]):\n",
    "        for k in range(1,P.shape[1]):\n",
    "            if k+1 > 6*(d+1) or (k+1 >= 2 and k+1 <= 2*(d+1)-1):\n",
    "                P[d,k] = 0\n",
    "            else:\n",
    "                P[d,k] = Q(d+1,k+1)*(5/6)**(d+1)\n",
    "    return P\n",
    "\n",
    "def roll_dice():\n",
    "    return random.randint(1,6)\n",
    "\n",
    "def player_roll(d,draw):\n",
    "    counter = 0\n",
    "    dices = []\n",
    "    dice_1 = False\n",
    "    for i in range(d):\n",
    "        dice = roll_dice()\n",
    "        dices.append(dice)\n",
    "        if dice == 1 :\n",
    "            dice_1 = True\n",
    "    \"\"\"print(\"Faces obtenues : \\n\")\"\"\"\n",
    "    if draw:\n",
    "        print_dice_rolls(dices)\n",
    "    if dice_1 is True:\n",
    "        counter = 1\n",
    "    else :\n",
    "        counter = sum(dices)\n",
    "    return counter\n",
    "\n",
    "def random_strategy(D):\n",
    "    return random.randint(1,D)\n",
    "\n",
    "def blind_strategy(D):\n",
    "    expected = np.array([(4*d-1)*((5/6)**d) + 1 for d in range(1,D+1)])\n",
    "    return np.argmax(expected)\n",
    "\n",
    "def optimal_strategy(state):\n",
    "    pass\n",
    "\n",
    "\n",
    "def play(strategy1, strategy2, win_score = 100, number_dice = 10, draw=False): #nécessite des modifications pour la variante simultanée\n",
    "    score_player1 = 0\n",
    "    score_player2 = 0\n",
    "    nb_turns = 1\n",
    "    while score_player1 < win_score or score_player2 < win_score :\n",
    "    \n",
    "        d1 = strategy1(number_dice)\n",
    "        score1 = player_roll(d1,draw)\n",
    "        score_player1 += score1\n",
    "\n",
    "        if score_player1 >= win_score:\n",
    "            winner = 1\n",
    "            break\n",
    "\n",
    "        \n",
    "        d2 = strategy2(number_dice)\n",
    "        score2 = player_roll(d2,draw)\n",
    "        score_player2 += score2\n",
    "\n",
    "        if score_player2 >= win_score:\n",
    "            winner = 2\n",
    "            break\n",
    "        nb_turns += 1\n",
    "    return winner\n",
    "\n",
    "def expected_rewards(strategy1,strategy2, nb_games,N): #nécessite des modifications pour la variante simultanée\n",
    "    rewards = np.zeros(N)\n",
    "    for n in range(N):\n",
    "        for i in range(nb_games):\n",
    "            win = play(strategy1,strategy2,win_score = n+20)\n",
    "            if win == 1:\n",
    "                rewards[n] += 1\n",
    "            else:\n",
    "                rewards[n] += -1\n",
    "        rewards[n] = rewards[n]/nb_games\n",
    "    return np.arange(20,N+20), rewards\n"
   ]
  },
  {
   "cell_type": "code",
   "execution_count": null,
   "metadata": {
    "ExecuteTime": {
     "start_time": "2019-11-16T20:07:13.556Z"
    }
   },
   "outputs": [],
   "source": [
    "N, r = expected_rewards(blind_strategy,random_strategy,1000,300)"
   ]
  },
  {
   "cell_type": "code",
   "execution_count": 164,
   "metadata": {
    "ExecuteTime": {
     "end_time": "2019-11-16T20:07:00.416404Z",
     "start_time": "2019-11-16T20:07:00.167935Z"
    }
   },
   "outputs": [
    {
     "data": {
      "text/plain": [
       "[<matplotlib.lines.Line2D at 0x7f990ac3b0b8>]"
      ]
     },
     "execution_count": 164,
     "metadata": {},
     "output_type": "execute_result"
    },
    {
     "data": {
      "image/png": "[encoded data removed]",
      "text/plain": [
       "<Figure size 432x288 with 1 Axes>"
      ]
     },
     "metadata": {
      "needs_background": "light"
     },
     "output_type": "display_data"
    }
   ],
   "source": [
    "plot(N,r)"
   ]
  },
  {
   "cell_type": "code",
   "execution_count": null,
   "metadata": {},
   "outputs": [],
   "source": []
  }
 ],
 "metadata": {
  "kernelspec": {
   "display_name": "Python 3",
   "language": "python",
   "name": "python3"
  },
  "language_info": {
   "codemirror_mode": {
    "name": "ipython",
    "version": 3
   },
   "file_extension": ".py",
   "mimetype": "text/x-python",
   "name": "python",
   "nbconvert_exporter": "python",
   "pygments_lexer": "ipython3",
   "version": "3.7.3"
  }
 },
 "nbformat": 4,
 "nbformat_minor": 2
}
